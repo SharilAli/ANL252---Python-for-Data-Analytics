{
 "cells": [
  {
   "cell_type": "markdown",
   "metadata": {},
   "source": [
    "# ANL252 - Python for Data Analytics\n",
    "### Tutor-Marked Assignment, July 2021 Presentation\n",
    "#### [My github page](https://github.com/SharilAli)"
   ]
  },
  {
   "cell_type": "markdown",
   "metadata": {},
   "source": [
    "## Question (a) - (d)\n",
    "### Probability Density Function of a Normal Distribution:\n",
    "### $$f\\left(x\\right)=\\frac{1}{\\sigma\\sqrt{2\\pi}}exp{\\left(\\frac{{-\\left(x-\\mu\\right)}^2}{2\\sigma}\\right)}$$\n"
   ]
  },
  {
   "cell_type": "code",
   "execution_count": 8,
   "metadata": {},
   "outputs": [],
   "source": [
    "def probability_density(x, mean=0.0, variance=1.0):\n",
    "    \"\"\"Calculate the probability density value of a normal distribution.\n",
    "    \n",
    "    Args:\n",
    "        x (float): A selected point of the distribution. \n",
    "        mean (float): The mean value of the distribution. Defaults to 0.\n",
    "        variance (float): The variance value of the distribution, greater than\\r\n",
    "        zero. Defaults to 1.\n",
    "\n",
    "    Returns:\n",
    "        The probability density value at x.\n",
    "        \n",
    "    Raises:\n",
    "        ValueError: If variance is not greater than zero.\n",
    "    \"\"\"\n",
    "    import math\n",
    "    \n",
    "    # Validate that the variance is greater than zero\n",
    "    if not variance > 0:\n",
    "        raise ValueError(\"Variance must be greater than zero\")\n",
    "         \n",
    "    else:\n",
    "        std = variance**0.5\n",
    "        # Slightly different than the formula in the TMA, produce same results.\n",
    "        return (1/(std*2*math.pi)**0.5) * math.exp(-(x - mean)**2 / (2*std))\n",
    "        "
   ]
  },
  {
   "cell_type": "markdown",
   "metadata": {},
   "source": [
    "## Question (f)\n",
    "### Design a program to compute $P(X\\le 0)$ based on the following formula:\n",
    "$$P(X\\le k)\\approx a[f_x\\ (a)+\\ldots+fx(k-2a)+fx(k-a)+fx(k)]$$\n",
    "<p>where a is the range of each step and a is a number close to negative \n",
    "infinity.</p>\n",
    "<p>The accuracy of the approximation increases with the decrease of the step \n",
    "range α.</p> "
   ]
  },
  {
   "cell_type": "code",
   "execution_count": 34,
   "metadata": {},
   "outputs": [],
   "source": [
    "# Python math module is not allowed for this question apparently. So..\n",
    "# But hey! It runs faster :)\n",
    "def cumulative_distribution(k=0.0, mean=0.0, variance=1.0):\n",
    "    \"\"\"Calculate the cumulative probability density up to point k. \n",
    "    \n",
    "    Args:\n",
    "        k (float): A selected point of the distribution. \n",
    "        mean (float): The mean value of the distribution. Defaults to 0.\n",
    "        variance (float): The variance value of the distribution, greater than\\r\n",
    "        zero. Defaults to 1.\n",
    "\n",
    "    Returns:\n",
    "        The cumulative probability density up to input k.\n",
    "        \n",
    "    Raises:\n",
    "        ValueError: If variance is not greater than zero.\n",
    "    \"\"\"    \n",
    "    # Validate that the variance is greater than zero\n",
    "    if not variance > 0:\n",
    "        raise ValueError(\"Variance must be greater than zero\")\n",
    "    \n",
    "    else:\n",
    "        # The lower the value, the better the accuracy of result.\n",
    "        range_increment = 0.00001\n",
    "        starting_increment = -100 - range_increment\n",
    "        \n",
    "        # Calculate the number of iterations\n",
    "        starting_range = round(starting_increment / range_increment)\n",
    "        ending_range = round(k / range_increment)\n",
    "        \n",
    "        cumulative_value = 0.0\n",
    "        for _ in range(starting_range, ending_range):\n",
    "            starting_increment += range_increment\n",
    "            cumulative_value += probability_density(starting_increment, \n",
    "                                                    mean, variance)\n",
    "        \n",
    "        return range_increment*cumulative_value"
   ]
  },
  {
   "cell_type": "markdown",
   "metadata": {},
   "source": [
    "## Question (h)\n"
   ]
  },
  {
   "cell_type": "markdown",
   "metadata": {},
   "source": [
    "<p>Create a dictionary to store the probabilities of the normal distribution for x = {-5, -4.9,\n",
    "-4.8, …, 0, 0.1, 0.2, …, 4.8, 4.9, 5} where x are the keys, and the corresponding\n",
    "probabilities are the values of the dictionary. The distribution mean here is 0 and\n",
    "variance is 1. Print all the probabilities (with the corresponding x) of those x’s between\n",
    "-2 and 2 with a step width of 0.5 from the dictionary onto the screen.</p>"
   ]
  },
  {
   "cell_type": "code",
   "execution_count": 17,
   "metadata": {},
   "outputs": [
    {
     "data": {
      "text/plain": [
       "{2: 0.05399096651318806,\n",
       " 1.5: 0.12951759566589174,\n",
       " 1.0: 0.24197072451914337,\n",
       " 0.5: 0.3520653267642995,\n",
       " 0.0: 0.3989422804014327,\n",
       " -0.5: 0.3520653267642995,\n",
       " -1.0: 0.24197072451914337,\n",
       " -1.5: 0.12951759566589174,\n",
       " -2.0: 0.05399096651318806}"
      ]
     },
     "execution_count": 17,
     "metadata": {},
     "output_type": "execute_result"
    }
   ],
   "source": [
    "def initiate_dict_of_probabilities(starting_value, ending_value, \n",
    "                                   increment_value, mean=0.0, variance=1.0):\n",
    "    \"\"\"Creates a dictionary that stores the probabilities of a normal\\r\n",
    "    distribution for a range of x values.\n",
    "    \n",
    "    Args:\n",
    "        starting_value (float): The starting value of a range.\n",
    "        ending_value (float): The ending value of a range.\n",
    "        increment_value (float): The increment in value within the range.\n",
    "        mean (float): The mean value of the distribution. Defaults to 0.\n",
    "        variance (float): The variance value of the distribution, greater than\\r\n",
    "        zero. Defaults to 1.\n",
    "\n",
    "    Returns:\n",
    "        A dictionary where the value of x corresponds with the probabilities\\r\n",
    "        of a normal distribution. \n",
    "        \n",
    "    Raises:\n",
    "        ValueError: If starting_value is equal to ending_value.\n",
    "    \"\"\"        \n",
    "    \n",
    "    # Validate the starting and ending point\n",
    "    if starting_value == ending_value: \n",
    "        raise ValueError(\"Starting value cannot be equal to the ending value.\")\n",
    "    \n",
    "    # Initiation of list for dict keys\n",
    "    list_ = []\n",
    "    if starting_value > ending_value:\n",
    "        list_.append(starting_value)\n",
    "        while starting_value > ending_value:\n",
    "            starting_value = starting_value - abs(increment_value)\n",
    "            list_.append(starting_value)\n",
    "    else:\n",
    "        list_.append(starting_value)\n",
    "        while starting_value < ending_value:\n",
    "            starting_value = starting_value + abs(increment_value)\n",
    "            list_.append(starting_value)\n",
    "\n",
    "    # Storing the probabilities of normal distribution according to dict keys\n",
    "    dict_ = {}\n",
    "    for x in list_:\n",
    "        dict_[x] = probability_density(x, mean, variance)\n",
    "    return dict_\n",
    "\n",
    "initiate_dict_of_probabilities(2,-2,0.5)\n",
    "    "
   ]
  }
 ],
 "metadata": {
  "kernelspec": {
   "display_name": "Python 3.9.7 64-bit",
   "language": "python",
   "name": "python3"
  },
  "language_info": {
   "codemirror_mode": {
    "name": "ipython",
    "version": 3
   },
   "file_extension": ".py",
   "mimetype": "text/x-python",
   "name": "python",
   "nbconvert_exporter": "python",
   "pygments_lexer": "ipython3",
   "version": "3.9.7"
  },
  "orig_nbformat": 4,
  "vscode": {
   "interpreter": {
    "hash": "b0fa6594d8f4cbf19f97940f81e996739fb7646882a419484c72d19e05852a7e"
   }
  }
 },
 "nbformat": 4,
 "nbformat_minor": 2
}
